{
  "nbformat": 4,
  "nbformat_minor": 0,
  "metadata": {
    "colab": {
      "provenance": []
    },
    "kernelspec": {
      "name": "python3",
      "display_name": "Python 3"
    },
    "accelerator": "GPU"
  },
  "cells": [
    {
      "cell_type": "code",
      "metadata": {
        "colab": {
          "base_uri": "https://localhost:8080/"
        },
        "id": "Gop6Q_wo8PuQ",
        "outputId": "866beb39-9eaf-43f3-ee3d-ee13d3afd934"
      },
      "source": [
        "# parameters\n",
        "grid_size = 3 # size of averaging window for calculating AOD or other products\n",
        "band = \"55\"\n",
        "varPM = \"PMc\"\n",
        "varAOD = \"nAODm\"\n",
        "root_path = \"/content/drive/MyDrive\"\n",
        "\n",
        "# from sklearn.model_selection import train_test_split\n",
        "from sklearn.metrics import accuracy_score\n",
        "import numpy as np\n",
        "import pandas as pd\n",
        "from sklearn import preprocessing\n",
        "import os\n",
        "from google.colab import drive\n",
        "import tensorflow as tf\n",
        "from sklearn.preprocessing import MinMaxScaler\n",
        "from sklearn.model_selection import cross_validate, cross_val_predict\n",
        "from sklearn.model_selection import KFold, StratifiedKFold\n",
        "from sklearn.metrics import mean_squared_error, mean_absolute_error, r2_score\n",
        "\n",
        "print(tf.test.gpu_device_name())\n"
      ],
      "execution_count": null,
      "outputs": [
        {
          "output_type": "stream",
          "text": [
            "/device:GPU:0\n"
          ],
          "name": "stdout"
        }
      ]
    },
    {
      "cell_type": "code",
      "metadata": {
        "colab": {
          "base_uri": "https://localhost:8080/"
        },
        "id": "YjlaQw838eMP",
        "outputId": "cb1ed51d-a321-4a49-fbd4-b8f8e5b23560"
      },
      "source": [
        "drive.mount('/content/drive')"
      ],
      "execution_count": null,
      "outputs": [
        {
          "output_type": "stream",
          "text": [
            "Mounted at /content/drive\n"
          ],
          "name": "stdout"
        }
      ]
    },
    {
      "cell_type": "code",
      "metadata": {
        "colab": {
          "base_uri": "https://localhost:8080/"
        },
        "id": "C_G3Solv8tIh",
        "outputId": "989b136c-71bd-4380-b0fb-a6124ef7184a"
      },
      "source": [
        "name = \"fAOD_PM\" + \"_g\"+str(grid_size) + \"_\" + band + \".csv\"\n",
        "path = os.path.join(root_path, \"final_data\", name)\n",
        "df = pd.read_csv(path)\n",
        "\n",
        "\n",
        "\n",
        "#X = df[[varAOD, 'lat', 'long', 'Prob_bestm','d2m', 't2m', 'blh',\n",
        "#       'sp', 'lai_hv', 'ws10', 'wd10', 'uvb',\n",
        "#       'RH', 'DOY']]\n",
        "X = df[[varAOD, 'lat', 'long', 'd2m', 't2m', 'blh',\n",
        "       'sp',  'ws10', 'wd10', 'uvb',\n",
        "       'RH', 'DOY']]\n",
        "\n",
        "print(X.columns)\n",
        "y = df[[varPM]]\n",
        "y = y.to_numpy()\n",
        "\n",
        "scaler = MinMaxScaler()\n",
        "Xs = scaler.fit_transform(X)\n",
        "print(Xs.shape)\n",
        "print(y.shape)\n"
      ],
      "execution_count": null,
      "outputs": [
        {
          "output_type": "stream",
          "text": [
            "Index(['nAODm', 'lat', 'long', 'Prob_bestm', 'd2m', 't2m', 'blh', 'sp',\n",
            "       'lai_hv', 'ws10', 'wd10', 'uvb', 'RH', 'DOY'],\n",
            "      dtype='object')\n",
            "(19862, 14)\n",
            "(19862, 1)\n"
          ],
          "name": "stdout"
        }
      ]
    },
    {
      "cell_type": "markdown",
      "metadata": {
        "id": "lLQbmUKY84Y7"
      },
      "source": [
        "Data preparation"
      ]
    },
    {
      "cell_type": "code",
      "metadata": {
        "colab": {
          "base_uri": "https://localhost:8080/"
        },
        "id": "EJr4Z7tc800J",
        "outputId": "7ce855d1-6f32-4c41-e3e1-144ca22d2203"
      },
      "source": [
        "cv = KFold(n_splits=10, random_state=1, shuffle=True)\n",
        "i = 0\n",
        "for train_index, test_index in cv.split(X):\n",
        "  print(\"loop:\", i)\n",
        "  if i == 6:\n",
        "    print( \"TRAIN:\", train_index, \"TEST:\", test_index)\n",
        "    break\n",
        "  else:\n",
        "    i+=1\n",
        "Xtrain = Xs[train_index]\n",
        "ytrain = y[train_index]\n",
        "\n",
        "Xtest = Xs[test_index]\n",
        "ytest = y[test_index]\n",
        "\n",
        "print(Xtrain.shape)\n",
        "print(ytrain.shape)"
      ],
      "execution_count": null,
      "outputs": [
        {
          "output_type": "stream",
          "text": [
            "loop: 0\n",
            "loop: 1\n",
            "loop: 2\n",
            "loop: 3\n",
            "loop: 4\n",
            "loop: 5\n",
            "loop: 6\n",
            "TRAIN: [    0     4     5 ... 19859 19860 19861] TEST: [    1     2     3 ... 19843 19846 19850]\n",
            "(17876, 14)\n",
            "(17876, 1)\n"
          ],
          "name": "stdout"
        }
      ]
    },
    {
      "cell_type": "markdown",
      "metadata": {
        "id": "n46ofuOm9Xyb"
      },
      "source": [
        "XGBoost"
      ]
    },
    {
      "cell_type": "code",
      "metadata": {
        "colab": {
          "base_uri": "https://localhost:8080/"
        },
        "id": "g1RkL8L49Qse",
        "outputId": "1f059e29-37e4-422e-f15a-62f02b2485f6"
      },
      "source": [
        "from xgboost import XGBRegressor\n",
        "scoring = ['r2','neg_mean_squared_error']\n",
        "xgbr = XGBRegressor(objective='reg:squarederror', n_estimators=2000, seed = 123)\n",
        "xgbr.fit(Xtrain, ytrain, verbose=True)"
      ],
      "execution_count": null,
      "outputs": [
        {
          "output_type": "execute_result",
          "data": {
            "text/plain": [
              "XGBRegressor(base_score=0.5, booster='gbtree', colsample_bylevel=1,\n",
              "             colsample_bynode=1, colsample_bytree=1, gamma=0,\n",
              "             importance_type='gain', learning_rate=0.1, max_delta_step=0,\n",
              "             max_depth=3, min_child_weight=1, missing=None, n_estimators=2000,\n",
              "             n_jobs=1, nthread=None, objective='reg:squarederror',\n",
              "             random_state=0, reg_alpha=0, reg_lambda=1, scale_pos_weight=1,\n",
              "             seed=123, silent=None, subsample=1, verbosity=1)"
            ]
          },
          "metadata": {
            "tags": []
          },
          "execution_count": 5
        }
      ]
    },
    {
      "cell_type": "code",
      "metadata": {
        "colab": {
          "base_uri": "https://localhost:8080/",
          "height": 426
        },
        "id": "WzVBMm9UB5Gd",
        "outputId": "9f02e137-a49e-414e-ac4c-cd70e8f1db4b"
      },
      "source": [
        "# make predictions on the test set\n",
        "dftest = df.loc[test_index]\n",
        "\n",
        "import time\n",
        "start = time.time()\n",
        "# prediction on validation data\n",
        "dftest[\"y_pred\"] = xgbr.predict(Xtest)\n",
        "print(\"Time of execution:\",  (time.time() - start))\n",
        "\n",
        "def NominalPM(row):\n",
        "    return row[\"y_pred\"]/((1-row[\"RH\"])**(-1))\n",
        "dftest[\"PMp\"] = dftest.apply(NominalPM, axis = 1)\n",
        "\n",
        "print (\"RMSE: \", np.round(mean_squared_error(dftest[\"PMp\"], dftest[\"PM2.5\"], squared=False),2))\n",
        "print (\"MAE: \", np.round(mean_absolute_error(dftest[\"PM2.5\"], dftest[\"PMp\"]),2))\n",
        "from scipy.stats import pearsonr\n",
        "corr, _ = pearsonr(dftest[\"y_pred\"], dftest[\"PMc\"])\n",
        "print('Pearsons R2 correlation: %.3f' % corr**2)\n",
        "\n",
        "\n",
        "import matplotlib.pyplot as plt\n",
        "import seaborn as sb\n",
        "# regression plot\n",
        "fig, ax = plt.subplots()\n",
        "# plt.rc('font', family='serif')\n",
        "ax = sb.regplot(dftest[\"y_pred\"], dftest[\"PMc\"], data = df,\n",
        "            line_kws={\"color\": \"red\"}, scatter=False)\n",
        "plt.legend(['R2 = {:.2f}'.format(np.round(corr, 2))])\n",
        "plt.xlabel('Measured PM2.5')\n",
        "plt.ylabel('Predicted PM2.5')\n",
        "\n",
        "\n",
        "# plt.figure()\n",
        "# plt.hist(y)\n",
        "# plt.show()\n",
        "from scipy.stats import gaussian_kde\n",
        "x, y = dftest[\"y_pred\"].to_numpy(), dftest[\"PMc\"].to_numpy()\n",
        "\n",
        "\n",
        "# Calculate the point density\n",
        "xy = np.vstack([x,y])\n",
        "z = gaussian_kde(xy)(xy)\n",
        "\n",
        "\n",
        "ax.scatter(x, y, c=z, s=7, edgecolor='', cmap='jet')\n",
        "plt.show()"
      ],
      "execution_count": null,
      "outputs": [
        {
          "output_type": "stream",
          "text": [
            "Time of execution: 0.1592569351196289\n",
            "RMSE:  8.1\n",
            "MAE:  6.26\n",
            "Pearsons R2 correlation: 0.799\n"
          ],
          "name": "stdout"
        },
        {
          "output_type": "stream",
          "text": [
            "/usr/local/lib/python3.6/dist-packages/seaborn/_decorators.py:43: FutureWarning: Pass the following variables as keyword args: x, y. From version 0.12, the only valid positional argument will be `data`, and passing other arguments without an explicit keyword will result in an error or misinterpretation.\n",
            "  FutureWarning\n",
            "/usr/local/lib/python3.6/dist-packages/ipykernel_launcher.py:45: MatplotlibDeprecationWarning: Using a string of single character colors as a color sequence is deprecated. Use an explicit list instead.\n"
          ],
          "name": "stderr"
        },
        {
          "output_type": "display_data",
          "data": {
            "image/png": "[encoded data removed]",
            "text/plain": [
              "<Figure size 432x288 with 1 Axes>"
            ]
          },
          "metadata": {
            "tags": [],
            "needs_background": "light"
          }
        }
      ]
    },
    {
      "cell_type": "code",
      "metadata": {
        "colab": {
          "base_uri": "https://localhost:8080/"
        },
        "id": "T9zotfKELleH",
        "outputId": "e9d67444-5288-441c-d933-3a86ca060461"
      },
      "source": [
        "# Save model\n",
        "output_path = os.path.join(root_path , \"PythonCodes\", \"PMXGB\")\n",
        "xgbr.save_model(output_path)\n",
        "print(output_path)"
      ],
      "execution_count": null,
      "outputs": [
        {
          "output_type": "stream",
          "text": [
            "/content/drive/MyDrive/PythonCodes/PMXGB\n"
          ],
          "name": "stdout"
        }
      ]
    }
  ]
}